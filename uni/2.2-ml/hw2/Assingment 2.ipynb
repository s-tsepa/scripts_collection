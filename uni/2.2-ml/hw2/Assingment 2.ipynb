{
 "cells": [
  {
   "cell_type": "markdown",
   "metadata": {},
   "source": [
    "# Assignment 2\n",
    "\n",
    "## Instructions\n",
    "- Your submission should be the `.ipynb` file with your name,\n",
    "  like `FirstnameLastname.ipynb`. it should include the answers to the questions in\n",
    "  markdown cells.\n",
    "- You are expected to follow the best practices for code writing and model\n",
    "training. Poor coding style will be penalized.\n",
    "- You are allowed to discuss ideas with your peers, but no sharing of code.\n",
    "Plagiarism in the code will result in failing. If you use code from the\n",
    "internet, cite it by adding the source of the code as a comment in the first line of the code cell.\n",
    "- In real life clients can give unclear goals or requirements. So, if the instructions seem vague, use common sense to make reasonable assumptions."
   ]
  },
  {
   "attachments": {},
   "cell_type": "markdown",
   "metadata": {},
   "source": [
    "# Task 1: [Where's Waldo?](https://www.wikihow.com/Find-Waldo) (35 points)\n",
    "\n",
    "## Fingerprinting\n",
    "Browser fingerprinting is a technique used to identify and track individuals based on unique characteristics of their web browser configuration. These characteristics can include the browser type, version, installed plugins, and screen resolution, among others. By combining these attributes, websites can create a digital fingerprint that can be used to track user behavior across multiple sites, even if they clear their cookies or use different devices. This has raised concerns about privacy and the potential for this technology to be used for targeted advertising, surveillance, and other purposes.\n",
    "\n",
    "[Read more]([Fingerprinting](https://datadome.co/learning-center/browser-fingerprinting-techniques/))\n",
    "\n",
    "##  What you need to do\n",
    "For this task, you are required to build a fully connect feed-forward ANN model\n",
    "for a classification problem.\n",
    "\n",
    "For the given data, you need do proper data preprocessing, data analysis,\n",
    "design the ANN model, then fine-tune your model architecture.\n",
    "\n",
    "For evaluating your model, do $ 80/20 $ train test split.\n",
    "\n",
    "### Learning Objectives\n",
    "\n",
    "- Select and implement suitable data preprocessing techniques. 10%\n",
    "- Identify the appropriate classification approach for a given problem. 20%\n",
    "- Apply ANNs to solve a classification problem (basic training, validation, testing -- without fine tuning). 50%\n",
    "- Fine-tune to determine the optimal model architecture. 20%\n",
    "\n",
    "\n",
    "### Data\n",
    "You will be working with the data in `Task_1.csv` for identifying waldo (the user with `user_id=0`) \n",
    "\n",
    "The columns include:\n",
    " - browser\n",
    " - os\n",
    " - locale\n",
    " - user_id\n",
    " - location\n",
    " - sites\n",
    " - time\n",
    " - date\n",
    "\n",
    "After training, evaluate you model by print [classification_report](https://scikit-learn.org/stable/modules/generated/sklearn.metrics.classification_report.html)\n",
    "on your test set. \n",
    "\n",
    "Then predicting each user in `task_1_verify.csv` whether it's Waldo or not. Your output should look like the following:\n",
    "\n",
    "`row_idx: is_waldo`, notice if the user is waldo your output should be 1\n",
    "\n",
    "``` \n",
    "0: 1\n",
    "1: 0\n",
    "2: 0\n",
    "3: 1\n",
    "4: 1\n",
    "...\n",
    "```\n",
    "\n"
   ]
  },
  {
   "cell_type": "code",
   "execution_count": null,
   "metadata": {
    "collapsed": false,
    "jupyter": {
     "outputs_hidden": false
    }
   },
   "outputs": [],
   "source": [
    "# TODO: Implement task 1"
   ]
  },
  {
   "cell_type": "markdown",
   "metadata": {},
   "source": [
    "### Questions\n",
    "1. Did you find any usefull insights from your data analysis?\n",
    "    - *Answer*\n",
    "2. What preprocessing techniques did you use? Why?\n",
    "    - *Answer*\n",
    "3. Describe the fine-tuning process and how you reached your model architecture.\n",
    "    - *Answer*\n",
    "4. Which metric did you try to optemize for this task? Why?\n",
    "    - *Answer*"
   ]
  },
  {
   "attachments": {},
   "cell_type": "markdown",
   "metadata": {},
   "source": [
    "# Task 2: Fingerprint Recognition (50 points)\n",
    "Fingerprint recognition is a highly accurate and reliable biometric technology that is used for identification and authentication purposes. By analyzing the unique patterns and ridges on an individual's fingerprint, it is possible to verify their identity with a high degree of confidence. This technology is widely used in law enforcement, border control, and access control systems, as well as in mobile devices and payment systems, to ensure secure and reliable identification and authentication.\n",
    "\n",
    "In this task you will be doing a simplified version of Fingerprint ID, which is just identifying which finger is used in the image\n",
    "\n",
    "## What you need to do\n",
    "\n",
    "For this task, you will be doing image classification:\n",
    "- Build a CNN model for image classification.\n",
    "- Estimate the speed of inference of your model\n",
    "\n",
    "For the given data, you need to do proper data preprocessing, augmentation, and data loaders.\n",
    "\n",
    "Then fine-tune your model architecture to achieve the highest accuracy.\n",
    "\n",
    "### Learning Objectives\n",
    "\n",
    "- Select and implement suitable data preprocessing techniques. 10%\n",
    "- Use literature (any paper on the use of CNN for fingerprinting and cite it) to choose an architecture. 10%\n",
    "- Apply CNNs to solve an image classification problem (basic training, validation, testing -- without fine tuning). 40%\n",
    "- Fine-tune your model to improve performance. 20%\n",
    "- Use of data augmentation to improve model’s performance. 20%\n",
    "- Explore beyond data augmentation find techniques to improve model’s performance and use them. 15%(bonus)\n",
    "\n",
    "\n",
    "### Data\n",
    "[Download link](https://drive.google.com/file/d/1iMIdYKSmCjVL5p-yzy-oInLMtTVt-1_j/view?usp=share_link)\n",
    "\n",
    "You will be working with the data in `task_2.zip` for identifying. The name of each image consists of 2 parts like\n",
    "`idx_label.BMB`\n",
    "\n",
    "Where the idx is the index of the image and the label is the target class.\n",
    "\n",
    "Each label corresponds to a finger:\n",
    "```\n",
    "0-> left_thumb\n",
    "1-> left_index\n",
    "2-> left_middle\n",
    "3-> left_ring\n",
    "4-> left_little\n",
    "5-> right_thumb\n",
    "6-> right_index\n",
    "7-> right_middle\n",
    "8-> right_ring\n",
    "9-> right_little\n",
    "```"
   ]
  },
  {
   "cell_type": "code",
   "execution_count": null,
   "metadata": {
    "collapsed": false,
    "jupyter": {
     "outputs_hidden": false
    }
   },
   "outputs": [],
   "source": [
    "# TODO: Implement task 2"
   ]
  },
  {
   "cell_type": "markdown",
   "metadata": {},
   "source": [
    "### Questions\n",
    "1. What preprocessing techniques did you use? Why?\n",
    "    - *Answer*\n",
    "2. What data augmentation techniques did you use?\n",
    "    - *Answer*\n",
    "3. Describe the fine-tuning process and how you reached your final CNN model.\n",
    "    - *Answer*\n",
    "4. What techniques did you use to improve model’s performance other than data augmentation\n",
    "    - *Answer*"
   ]
  },
  {
   "cell_type": "markdown",
   "metadata": {},
   "source": [
    "# Task 3: Credit approval (15 points)\n",
    "\n",
    "Credit approval is necessary to assess an individual's creditworthiness and determine their eligibility for loans, credit cards, and other financial products. It helps lenders to evaluate the borrower's ability to repay the loan, their credit history, and other financial obligations.\n",
    "Credit approval is important for both lenders and borrowers because it enables lenders to manage their risk and make informed lending decisions while ensuring that borrowers can obtain financing on fair and reasonable terms.\n",
    "\n",
    "In many credit approval applications, it is crucial for the model to be interpretable. This means that the model's inner workings and decision-making process can be easily understood and explained by humans. An interpretable model can help to build trust in the model's output, provide transparency in the decision-making process, and enable regulators to monitor and audit the model's performance. \n",
    "\n",
    "## What you need to do\n",
    "\n",
    "For the `loan_data.csv` data, predict if the bank should give a loan or not.\n",
    "\n",
    "- Fine-tune a decision tree on the data\n",
    "- Fine-tune a random forest on the data\n",
    "- Compare their performance\n",
    "- Visualize your DT and one of the trees from the RF\n",
    "\n",
    "For evaluating your models, do $80/20$ train test split.\n",
    "\n",
    "### Learning Objectives\n",
    "\n",
    "- Apply DTs, and RFs to solve a classification problem (basic training, validation, testing. 50%\n",
    "- Fine-tune to determine the optimal model architecture. 20%\n",
    "- Evaluate and compare the performance of different models. 10%\n",
    "- Visualise the models. 20%\n",
    "\n",
    "\n",
    "### Data\n",
    "- `credit.policy`: Whether the customer meets the credit underwriting criteria.\n",
    "- `purpose`: The purpose of the loan.\n",
    "- `int.rate`: The interest rate of the loan.\n",
    "- `installment`: The monthly installments owed by the borrower if the loan is funded.\n",
    "- `log.annual.inc`: The natural logarithm of the self-reported annual income of the borrower.\n",
    "- `dti`: The debt-to-income ratio of the borrower.\n",
    "- `fico`: The FICO credit score of the borrower.\n",
    "- `days.with.cr.line`: The number of days the borrower has had a credit line.\n",
    "- `revol.bal`: The borrower's revolving balance.\n",
    "- `revol.util`: The borrower's revolving line utilization rate."
   ]
  },
  {
   "cell_type": "code",
   "execution_count": null,
   "metadata": {
    "collapsed": false,
    "jupyter": {
     "outputs_hidden": false
    }
   },
   "outputs": [],
   "source": [
    "# TODO: Implement task 3"
   ]
  },
  {
   "cell_type": "markdown",
   "metadata": {},
   "source": [
    "### Questions\n",
    "1. How did the DT compare to the RF in performance? Why?\n",
    "    - *Answer*\n",
    "2. After fine-tuning, how does the max depth in DT compare to RF? Why?\n",
    "    - *Answer*\n",
    "3. What is ensemble learning? What are its pros and cons?\n",
    "    - *Answer*\n",
    "4. Briefly explain 2 types of boosting methods and 2 types of bagging methods.\n",
    "Which of these categories does RF fall under?\n",
    "    - *Answer*"
   ]
  }
 ],
 "metadata": {
  "kernelspec": {
   "display_name": "Python 3 (ipykernel)",
   "language": "python",
   "name": "python3"
  },
  "language_info": {
   "codemirror_mode": {
    "name": "ipython",
    "version": 3
   },
   "file_extension": ".py",
   "mimetype": "text/x-python",
   "name": "python",
   "nbconvert_exporter": "python",
   "pygments_lexer": "ipython3",
   "version": "3.9.13"
  }
 },
 "nbformat": 4,
 "nbformat_minor": 4
}
